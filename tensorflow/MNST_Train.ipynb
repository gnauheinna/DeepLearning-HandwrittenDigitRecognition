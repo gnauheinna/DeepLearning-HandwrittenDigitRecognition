{
 "cells": [
  {
   "cell_type": "code",
   "execution_count": 66,
   "metadata": {},
   "outputs": [],
   "source": [
    "import numpy as np\n",
    "import matplotlib.pyplot as plt\n",
    "from tensorflow import keras\n",
    "from keras.datasets import mnist\n",
    "from keras.models import Sequential\n",
    "from keras.layers import Dense, Conv2D, MaxPool2D, Flatten, Dropout"
   ]
  },
  {
   "attachments": {},
   "cell_type": "markdown",
   "metadata": {},
   "source": [
    "## Get the data and preprocess it"
   ]
  },
  {
   "cell_type": "code",
   "execution_count": 67,
   "metadata": {},
   "outputs": [
    {
     "data": {
      "text/plain": [
       "((60000, 28, 28), (60000,), (10000, 28, 28), (10000,))"
      ]
     },
     "execution_count": 67,
     "metadata": {},
     "output_type": "execute_result"
    }
   ],
   "source": [
    "(x_train, y_train), (x_test, y_test) = mnist.load_data()\n",
    "x_train.shape , y_train.shape, x_test.shape, y_test.shape"
   ]
  },
  {
   "cell_type": "code",
   "execution_count": 68,
   "metadata": {},
   "outputs": [],
   "source": [
    "def plot_input_img(i):\n",
    "    plt.imshow(x_train[i], cmap='binary')\n",
    "    plt.title(y_train[i])\n",
    "    plt.show()\n"
   ]
  },
  {
   "cell_type": "code",
   "execution_count": 69,
   "metadata": {},
   "outputs": [],
   "source": [
    "# Pre Process the images\n",
    "\n",
    "# Normalizing the image to [0,1] range\n",
    "x_train = x_train.astype(np.float32)/255\n",
    "x_test = x_test.astype(np.float32)/255\n",
    "\n",
    "# Reshape/ expand the dimension of image to (28, 28, 1)\n",
    "x_train = np.expand_dims(x_train, -1)\n",
    "x_test = np.expand_dims(x_test, -1)\n",
    "\n",
    "\n",
    "# convert classes to one hot vector\n",
    "y_train = keras.utils.to_categorical(y_train)\n",
    "y_test = keras.utils.to_categorical(y_test)"
   ]
  },
  {
   "cell_type": "code",
   "execution_count": 70,
   "metadata": {},
   "outputs": [],
   "source": [
    "model = Sequential()\n",
    "\n",
    "# add a 32 filter convolution layer and 2X2 maxpool layer\n",
    "model.add(Conv2D(32, (3,3), input_shape = (28, 28, 1), activation = 'relu'))\n",
    "model.add(MaxPool2D((2, 2)))\n",
    "# add a 64 filter convolution layer and 2X2 maxpool layer\n",
    "model.add(Conv2D(64, (3,3), activation = 'relu'))\n",
    "model.add(MaxPool2D((2, 2)))\n",
    "\n",
    "model.add(Flatten())\n",
    "model.add(Dropout(0.25))\n",
    "\n",
    "model.add(Dense(10, activation=\"softmax\"))"
   ]
  },
  {
   "cell_type": "code",
   "execution_count": 71,
   "metadata": {},
   "outputs": [
    {
     "name": "stdout",
     "output_type": "stream",
     "text": [
      "Model: \"sequential_3\"\n",
      "_________________________________________________________________\n",
      " Layer (type)                Output Shape              Param #   \n",
      "=================================================================\n",
      " conv2d_6 (Conv2D)           (None, 26, 26, 32)        320       \n",
      "                                                                 \n",
      " max_pooling2d_6 (MaxPooling  (None, 13, 13, 32)       0         \n",
      " 2D)                                                             \n",
      "                                                                 \n",
      " conv2d_7 (Conv2D)           (None, 11, 11, 64)        18496     \n",
      "                                                                 \n",
      " max_pooling2d_7 (MaxPooling  (None, 5, 5, 64)         0         \n",
      " 2D)                                                             \n",
      "                                                                 \n",
      " flatten_3 (Flatten)         (None, 1600)              0         \n",
      "                                                                 \n",
      " dropout_3 (Dropout)         (None, 1600)              0         \n",
      "                                                                 \n",
      " dense_3 (Dense)             (None, 10)                16010     \n",
      "                                                                 \n",
      "=================================================================\n",
      "Total params: 34,826\n",
      "Trainable params: 34,826\n",
      "Non-trainable params: 0\n",
      "_________________________________________________________________\n"
     ]
    }
   ],
   "source": [
    "model.summary()"
   ]
  },
  {
   "cell_type": "code",
   "execution_count": 72,
   "metadata": {},
   "outputs": [],
   "source": [
    "model.compile(optimizer = 'adam', loss=keras.losses.categorical_crossentropy , metrics=['accuracy'])"
   ]
  },
  {
   "cell_type": "code",
   "execution_count": 73,
   "metadata": {},
   "outputs": [],
   "source": [
    "# Callbacks\n",
    "\n",
    "from keras.callbacks import EarlyStopping, ModelCheckpoint\n",
    "\n",
    "# EarlyStopping\n",
    "es = EarlyStopping(monitor='val_accuracy', min_delta = 0.01, patience=4, verbose=1)\n",
    "\n",
    "# Model Check Point\n",
    "mc = ModelCheckpoint(\"./model.h5\", monitor=\"val_accuracy\", verbose=1, save_best_only = True) \n",
    "\n",
    "cb = [es, mc]\n"
   ]
  },
  {
   "attachments": {},
   "cell_type": "markdown",
   "metadata": {},
   "source": [
    "## Model Training"
   ]
  },
  {
   "cell_type": "code",
   "execution_count": 74,
   "metadata": {},
   "outputs": [
    {
     "name": "stdout",
     "output_type": "stream",
     "text": [
      "Epoch 1/50\n",
      "1305/1313 [============================>.] - ETA: 0s - loss: 0.2213 - accuracy: 0.9339\n",
      "Epoch 1: val_accuracy improved from -inf to 0.97306, saving model to ./model.h5\n",
      "1313/1313 [==============================] - 10s 8ms/step - loss: 0.2205 - accuracy: 0.9341 - val_loss: 0.0888 - val_accuracy: 0.9731\n",
      "Epoch 2/50\n",
      "1312/1313 [============================>.] - ETA: 0s - loss: 0.0738 - accuracy: 0.9771\n",
      "Epoch 2: val_accuracy improved from 0.97306 to 0.98228, saving model to ./model.h5\n",
      "1313/1313 [==============================] - 10s 8ms/step - loss: 0.0738 - accuracy: 0.9770 - val_loss: 0.0583 - val_accuracy: 0.9823\n",
      "Epoch 3/50\n",
      "1309/1313 [============================>.] - ETA: 0s - loss: 0.0550 - accuracy: 0.9830\n",
      "Epoch 3: val_accuracy improved from 0.98228 to 0.98494, saving model to ./model.h5\n",
      "1313/1313 [==============================] - 10s 8ms/step - loss: 0.0549 - accuracy: 0.9830 - val_loss: 0.0500 - val_accuracy: 0.9849\n",
      "Epoch 4/50\n",
      "1312/1313 [============================>.] - ETA: 0s - loss: 0.0445 - accuracy: 0.9868\n",
      "Epoch 4: val_accuracy improved from 0.98494 to 0.98550, saving model to ./model.h5\n",
      "1313/1313 [==============================] - 10s 7ms/step - loss: 0.0445 - accuracy: 0.9868 - val_loss: 0.0472 - val_accuracy: 0.9855\n",
      "Epoch 5/50\n",
      "1312/1313 [============================>.] - ETA: 0s - loss: 0.0375 - accuracy: 0.9880\n",
      "Epoch 5: val_accuracy improved from 0.98550 to 0.98650, saving model to ./model.h5\n",
      "1313/1313 [==============================] - 10s 8ms/step - loss: 0.0375 - accuracy: 0.9880 - val_loss: 0.0437 - val_accuracy: 0.9865\n",
      "Epoch 6/50\n",
      "1306/1313 [============================>.] - ETA: 0s - loss: 0.0332 - accuracy: 0.9892\n",
      "Epoch 6: val_accuracy improved from 0.98650 to 0.98839, saving model to ./model.h5\n",
      "1313/1313 [==============================] - 10s 8ms/step - loss: 0.0333 - accuracy: 0.9892 - val_loss: 0.0398 - val_accuracy: 0.9884\n",
      "Epoch 7/50\n",
      "1310/1313 [============================>.] - ETA: 0s - loss: 0.0282 - accuracy: 0.9914\n",
      "Epoch 7: val_accuracy did not improve from 0.98839\n",
      "1313/1313 [==============================] - 10s 8ms/step - loss: 0.0282 - accuracy: 0.9914 - val_loss: 0.0434 - val_accuracy: 0.9873\n",
      "Epoch 7: early stopping\n"
     ]
    }
   ],
   "source": [
    "his = model.fit(x_train, y_train, epochs=50, validation_split=0.3, callbacks= cb)"
   ]
  },
  {
   "cell_type": "code",
   "execution_count": 75,
   "metadata": {},
   "outputs": [],
   "source": [
    "model_S = keras.models.load_model(\"/Users/anniehuang/Desktop/DeepLearning-HandwrittenDigitRecognition/tensorflow/model.h5\")"
   ]
  },
  {
   "cell_type": "code",
   "execution_count": 76,
   "metadata": {},
   "outputs": [
    {
     "name": "stdout",
     "output_type": "stream",
     "text": [
      "313/313 [==============================] - 1s 2ms/step - loss: 0.0299 - accuracy: 0.9905\n",
      "the score accuracy is 0.9904999732971191\n"
     ]
    }
   ],
   "source": [
    "score = model_S.evaluate(x_test, y_test)\n",
    "\n",
    "print(f\"the score accuracy is {score[1]}\")"
   ]
  }
 ],
 "metadata": {
  "kernelspec": {
   "display_name": "base",
   "language": "python",
   "name": "python3"
  },
  "language_info": {
   "codemirror_mode": {
    "name": "ipython",
    "version": 3
   },
   "file_extension": ".py",
   "mimetype": "text/x-python",
   "name": "python",
   "nbconvert_exporter": "python",
   "pygments_lexer": "ipython3",
   "version": "3.11.3"
  },
  "orig_nbformat": 4
 },
 "nbformat": 4,
 "nbformat_minor": 2
}
