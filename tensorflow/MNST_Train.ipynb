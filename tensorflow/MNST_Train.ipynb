{
 "cells": [
  {
   "cell_type": "code",
   "execution_count": 77,
   "metadata": {},
   "outputs": [],
   "source": [
    "import numpy as np\n",
    "import matplotlib.pyplot as plt\n",
    "from tensorflow import keras\n",
    "from keras.datasets import mnist\n",
    "from keras.models import Sequential\n",
    "from keras.layers import Dense, Conv2D, MaxPool2D, Flatten, Dropout"
   ]
  },
  {
   "attachments": {},
   "cell_type": "markdown",
   "metadata": {},
   "source": [
    "## Get the data and preprocess it"
   ]
  },
  {
   "cell_type": "code",
   "execution_count": 78,
   "metadata": {},
   "outputs": [
    {
     "data": {
      "text/plain": [
       "((60000, 28, 28), (60000,), (10000, 28, 28), (10000,))"
      ]
     },
     "execution_count": 78,
     "metadata": {},
     "output_type": "execute_result"
    }
   ],
   "source": [
    "(x_train, y_train), (x_test, y_test) = mnist.load_data()\n",
    "x_train.shape , y_train.shape, x_test.shape, y_test.shape"
   ]
  },
  {
   "cell_type": "code",
   "execution_count": 79,
   "metadata": {},
   "outputs": [],
   "source": [
    "def plot_input_img(i):\n",
    "    plt.imshow(x_train[i], cmap='binary')\n",
    "    plt.title(y_train[i])\n",
    "    plt.show()\n"
   ]
  },
  {
   "cell_type": "code",
   "execution_count": 80,
   "metadata": {},
   "outputs": [],
   "source": [
    "# Pre Process the images\n",
    "\n",
    "# Normalizing the image to [0,1] range\n",
    "x_train = x_train.astype(np.float32)/255\n",
    "x_test = x_test.astype(np.float32)/255\n",
    "\n",
    "# Reshape/ expand the dimension of image to (28, 28, 1)\n",
    "x_train = np.expand_dims(x_train, -1)\n",
    "x_test = np.expand_dims(x_test, -1)\n",
    "\n",
    "\n",
    "# convert classes to one hot vector\n",
    "y_train = keras.utils.to_categorical(y_train)\n",
    "y_test = keras.utils.to_categorical(y_test)"
   ]
  },
  {
   "cell_type": "code",
   "execution_count": 81,
   "metadata": {},
   "outputs": [],
   "source": [
    "model = Sequential()\n",
    "\n",
    "# add a 32 filter convolution layer and 2X2 maxpool layer\n",
    "model.add(Conv2D(32, (3,3), input_shape = (28, 28, 1), activation = 'relu'))\n",
    "model.add(MaxPool2D((2, 2)))\n",
    "# add a 64 filter convolution layer and 2X2 maxpool layer\n",
    "model.add(Conv2D(64, (3,3), activation = 'relu'))\n",
    "model.add(MaxPool2D((2, 2)))\n",
    "\n",
    "model.add(Flatten())\n",
    "model.add(Dropout(0.25))\n",
    "\n",
    "model.add(Dense(10, activation=\"softmax\"))"
   ]
  },
  {
   "cell_type": "code",
   "execution_count": 82,
   "metadata": {},
   "outputs": [
    {
     "name": "stdout",
     "output_type": "stream",
     "text": [
      "Model: \"sequential_4\"\n",
      "_________________________________________________________________\n",
      " Layer (type)                Output Shape              Param #   \n",
      "=================================================================\n",
      " conv2d_8 (Conv2D)           (None, 26, 26, 32)        320       \n",
      "                                                                 \n",
      " max_pooling2d_8 (MaxPooling  (None, 13, 13, 32)       0         \n",
      " 2D)                                                             \n",
      "                                                                 \n",
      " conv2d_9 (Conv2D)           (None, 11, 11, 64)        18496     \n",
      "                                                                 \n",
      " max_pooling2d_9 (MaxPooling  (None, 5, 5, 64)         0         \n",
      " 2D)                                                             \n",
      "                                                                 \n",
      " flatten_4 (Flatten)         (None, 1600)              0         \n",
      "                                                                 \n",
      " dropout_4 (Dropout)         (None, 1600)              0         \n",
      "                                                                 \n",
      " dense_4 (Dense)             (None, 10)                16010     \n",
      "                                                                 \n",
      "=================================================================\n",
      "Total params: 34,826\n",
      "Trainable params: 34,826\n",
      "Non-trainable params: 0\n",
      "_________________________________________________________________\n"
     ]
    }
   ],
   "source": [
    "model.summary()"
   ]
  },
  {
   "cell_type": "code",
   "execution_count": 83,
   "metadata": {},
   "outputs": [],
   "source": [
    "model.compile(optimizer = 'adam', loss=keras.losses.categorical_crossentropy , metrics=['accuracy'])"
   ]
  },
  {
   "cell_type": "code",
   "execution_count": 84,
   "metadata": {},
   "outputs": [],
   "source": [
    "# Callbacks\n",
    "\n",
    "from keras.callbacks import EarlyStopping, ModelCheckpoint\n",
    "\n",
    "# EarlyStopping\n",
    "es = EarlyStopping(monitor='val_accuracy', min_delta = 0.01, patience=4, verbose=1)\n",
    "\n",
    "# Model Check Point\n",
    "mc = ModelCheckpoint(\"./model.h5\", monitor=\"val_accuracy\", verbose=1, save_best_only = True) \n",
    "\n",
    "cb = [es, mc]\n"
   ]
  },
  {
   "attachments": {},
   "cell_type": "markdown",
   "metadata": {},
   "source": [
    "## Model Training"
   ]
  },
  {
   "cell_type": "code",
   "execution_count": 85,
   "metadata": {},
   "outputs": [
    {
     "name": "stdout",
     "output_type": "stream",
     "text": [
      "Epoch 1/50\n",
      "1308/1313 [============================>.] - ETA: 0s - loss: 0.2131 - accuracy: 0.9370\n",
      "Epoch 1: val_accuracy improved from -inf to 0.97467, saving model to ./model.h5\n",
      "1313/1313 [==============================] - 18s 13ms/step - loss: 0.2126 - accuracy: 0.9372 - val_loss: 0.0829 - val_accuracy: 0.9747\n",
      "Epoch 2/50\n",
      "1313/1313 [==============================] - ETA: 0s - loss: 0.0747 - accuracy: 0.9773\n",
      "Epoch 2: val_accuracy improved from 0.97467 to 0.97906, saving model to ./model.h5\n",
      "1313/1313 [==============================] - 16s 12ms/step - loss: 0.0747 - accuracy: 0.9773 - val_loss: 0.0678 - val_accuracy: 0.9791\n",
      "Epoch 3/50\n",
      "1309/1313 [============================>.] - ETA: 0s - loss: 0.0571 - accuracy: 0.9819\n",
      "Epoch 3: val_accuracy improved from 0.97906 to 0.98406, saving model to ./model.h5\n",
      "1313/1313 [==============================] - 16s 12ms/step - loss: 0.0571 - accuracy: 0.9818 - val_loss: 0.0535 - val_accuracy: 0.9841\n",
      "Epoch 4/50\n",
      "1309/1313 [============================>.] - ETA: 0s - loss: 0.0450 - accuracy: 0.9860\n",
      "Epoch 4: val_accuracy improved from 0.98406 to 0.98467, saving model to ./model.h5\n",
      "1313/1313 [==============================] - 17s 13ms/step - loss: 0.0452 - accuracy: 0.9859 - val_loss: 0.0476 - val_accuracy: 0.9847\n",
      "Epoch 5/50\n",
      "1308/1313 [============================>.] - ETA: 0s - loss: 0.0386 - accuracy: 0.9874\n",
      "Epoch 5: val_accuracy improved from 0.98467 to 0.98678, saving model to ./model.h5\n",
      "1313/1313 [==============================] - 16s 12ms/step - loss: 0.0387 - accuracy: 0.9874 - val_loss: 0.0463 - val_accuracy: 0.9868\n",
      "Epoch 6/50\n",
      "1310/1313 [============================>.] - ETA: 0s - loss: 0.0346 - accuracy: 0.9895\n",
      "Epoch 6: val_accuracy improved from 0.98678 to 0.98767, saving model to ./model.h5\n",
      "1313/1313 [==============================] - 17s 13ms/step - loss: 0.0346 - accuracy: 0.9894 - val_loss: 0.0427 - val_accuracy: 0.9877\n",
      "Epoch 7/50\n",
      "1309/1313 [============================>.] - ETA: 0s - loss: 0.0299 - accuracy: 0.9900\n",
      "Epoch 7: val_accuracy improved from 0.98767 to 0.98833, saving model to ./model.h5\n",
      "1313/1313 [==============================] - 17s 13ms/step - loss: 0.0301 - accuracy: 0.9899 - val_loss: 0.0410 - val_accuracy: 0.9883\n",
      "Epoch 8/50\n",
      "1309/1313 [============================>.] - ETA: 0s - loss: 0.0272 - accuracy: 0.9913\n",
      "Epoch 8: val_accuracy did not improve from 0.98833\n",
      "1313/1313 [==============================] - 17s 13ms/step - loss: 0.0272 - accuracy: 0.9913 - val_loss: 0.0407 - val_accuracy: 0.9883\n",
      "Epoch 9/50\n",
      "1309/1313 [============================>.] - ETA: 0s - loss: 0.0232 - accuracy: 0.9919\n",
      "Epoch 9: val_accuracy did not improve from 0.98833\n",
      "1313/1313 [==============================] - 17s 13ms/step - loss: 0.0232 - accuracy: 0.9919 - val_loss: 0.0497 - val_accuracy: 0.9859\n",
      "Epoch 9: early stopping\n"
     ]
    }
   ],
   "source": [
    "his = model.fit(x_train, y_train, epochs=50, validation_split=0.3, callbacks= cb)"
   ]
  },
  {
   "cell_type": "code",
   "execution_count": 86,
   "metadata": {},
   "outputs": [],
   "source": [
    "model_S = keras.models.load_model(\"/Users/anniehuang/Desktop/DeepLearning-HandwrittenDigitRecognition/tensorflow/model.h5\")"
   ]
  },
  {
   "cell_type": "code",
   "execution_count": 87,
   "metadata": {},
   "outputs": [
    {
     "name": "stdout",
     "output_type": "stream",
     "text": [
      "313/313 [==============================] - 2s 6ms/step - loss: 0.0317 - accuracy: 0.9894\n",
      "the score accuracy is 0.9894000291824341\n"
     ]
    }
   ],
   "source": [
    "score = model_S.evaluate(x_test, y_test)\n",
    "\n",
    "print(f\"the score accuracy is {score[1]}\")"
   ]
  }
 ],
 "metadata": {
  "kernelspec": {
   "display_name": "base",
   "language": "python",
   "name": "python3"
  },
  "language_info": {
   "codemirror_mode": {
    "name": "ipython",
    "version": 3
   },
   "file_extension": ".py",
   "mimetype": "text/x-python",
   "name": "python",
   "nbconvert_exporter": "python",
   "pygments_lexer": "ipython3",
   "version": "3.11.3"
  },
  "orig_nbformat": 4
 },
 "nbformat": 4,
 "nbformat_minor": 2
}
