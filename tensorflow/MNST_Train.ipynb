{
 "cells": [
  {
   "cell_type": "code",
   "execution_count": 21,
   "metadata": {},
   "outputs": [],
   "source": [
    "import numpy as np\n",
    "import matplotlib.pyplot as plt\n",
    "from tensorflow import keras\n",
    "from keras.datasets import mnist\n",
    "from keras.models import Sequential\n",
    "from keras.layers import Dense, Conv2D, MaxPool2D, Flatten, Dropout"
   ]
  },
  {
   "attachments": {},
   "cell_type": "markdown",
   "metadata": {},
   "source": [
    "## Get the data and preprocess it"
   ]
  },
  {
   "cell_type": "code",
   "execution_count": 22,
   "metadata": {},
   "outputs": [
    {
     "data": {
      "text/plain": [
       "((60000, 28, 28), (60000,), (10000, 28, 28), (10000,))"
      ]
     },
     "execution_count": 22,
     "metadata": {},
     "output_type": "execute_result"
    }
   ],
   "source": [
    "(x_train, y_train), (x_test, y_test) = mnist.load_data()\n",
    "x_train.shape , y_train.shape, x_test.shape, y_test.shape"
   ]
  },
  {
   "cell_type": "code",
   "execution_count": 23,
   "metadata": {},
   "outputs": [],
   "source": [
    "def plot_input_img(i):\n",
    "    plt.imshow(x_train[i], cmap='binary')\n",
    "    plt.title(y_train[i])\n",
    "    plt.show()\n"
   ]
  },
  {
   "cell_type": "code",
   "execution_count": 24,
   "metadata": {},
   "outputs": [],
   "source": [
    "# Pre Process the images\n",
    "\n",
    "# Normalizing the image to [0,1] range\n",
    "x_train = x_train.astype(np.float32)/255\n",
    "x_test = x_test.astype(np.float32)/255\n",
    "\n",
    "# Reshape/ expand the dimension of image to (28, 28, 1)\n",
    "x_train = np.expand_dims(x_train, -1)\n",
    "x_test = np.expand_dims(x_test, -1)\n",
    "\n",
    "\n",
    "# convert classes to one hot vector\n",
    "y_train = keras.utils.to_categorical(y_train)\n",
    "y_test = keras.utils.to_categorical(y_test)"
   ]
  },
  {
   "cell_type": "code",
   "execution_count": 25,
   "metadata": {},
   "outputs": [],
   "source": [
    "model = Sequential()\n",
    "\n",
    "# add a 32 filter convolution layer and 2X2 maxpool layer\n",
    "model.add(Conv2D(32, (3,3), input_shape = (28, 28, 1), activation = 'relu'))\n",
    "model.add(MaxPool2D((2, 2)))\n",
    "# add a 64 filter convolution layer and 2X2 maxpool layer\n",
    "model.add(Conv2D(64, (3,3), activation = 'relu'))\n",
    "model.add(MaxPool2D((2, 2)))\n",
    "\n",
    "model.add(Flatten())\n",
    "model.add(Dropout(0.25))\n",
    "\n",
    "model.add(Dense(10, activation=\"softmax\"))"
   ]
  },
  {
   "cell_type": "code",
   "execution_count": 47,
   "metadata": {},
   "outputs": [
    {
     "name": "stdout",
     "output_type": "stream",
     "text": [
      "Model: \"sequential_2\"\n",
      "_________________________________________________________________\n",
      " Layer (type)                Output Shape              Param #   \n",
      "=================================================================\n",
      " conv2d_4 (Conv2D)           (None, 26, 26, 32)        320       \n",
      "                                                                 \n",
      " max_pooling2d_4 (MaxPooling  (None, 13, 13, 32)       0         \n",
      " 2D)                                                             \n",
      "                                                                 \n",
      " conv2d_5 (Conv2D)           (None, 11, 11, 64)        18496     \n",
      "                                                                 \n",
      " max_pooling2d_5 (MaxPooling  (None, 5, 5, 64)         0         \n",
      " 2D)                                                             \n",
      "                                                                 \n",
      " flatten_2 (Flatten)         (None, 1600)              0         \n",
      "                                                                 \n",
      " dropout_2 (Dropout)         (None, 1600)              0         \n",
      "                                                                 \n",
      " dense_2 (Dense)             (None, 10)                16010     \n",
      "                                                                 \n",
      "=================================================================\n",
      "Total params: 34,826\n",
      "Trainable params: 34,826\n",
      "Non-trainable params: 0\n",
      "_________________________________________________________________\n"
     ]
    }
   ],
   "source": [
    "model.summary()"
   ]
  },
  {
   "cell_type": "code",
   "execution_count": 26,
   "metadata": {},
   "outputs": [],
   "source": [
    "model.compile(optimizer = 'adam', loss=keras.losses.categorical_crossentropy , metrics=['accuracy'])"
   ]
  },
  {
   "cell_type": "code",
   "execution_count": 59,
   "metadata": {},
   "outputs": [],
   "source": [
    "# Callbacks\n",
    "\n",
    "from keras.callbacks import EarlyStopping, ModelCheckpoint\n",
    "\n",
    "# EarlyStopping\n",
    "es = EarlyStopping(monitor='val_accuracy', min_delta = 0.01, patience=4, verbose=1)\n",
    "\n",
    "# Model Check Point\n",
    "mc = ModelCheckpoint(\"./model.h5\", monitor=\"val_accuracy\", verbose=1, save_best_only = True) \n",
    "\n",
    "cb = [es, mc]\n"
   ]
  },
  {
   "attachments": {},
   "cell_type": "markdown",
   "metadata": {},
   "source": [
    "## Model Training"
   ]
  },
  {
   "cell_type": "code",
   "execution_count": 60,
   "metadata": {},
   "outputs": [
    {
     "name": "stdout",
     "output_type": "stream",
     "text": [
      "Epoch 1/5\n",
      "1311/1313 [============================>.] - ETA: 0s - loss: 0.0046 - accuracy: 0.9986\n",
      "Epoch 1: val_accuracy improved from -inf to 0.98950, saving model to ./model.h5\n",
      "1313/1313 [==============================] - 10s 8ms/step - loss: 0.0046 - accuracy: 0.9986 - val_loss: 0.0630 - val_accuracy: 0.9895\n",
      "Epoch 2/5\n",
      "1310/1313 [============================>.] - ETA: 0s - loss: 0.0043 - accuracy: 0.9986\n",
      "Epoch 2: val_accuracy improved from 0.98950 to 0.99044, saving model to ./model.h5\n",
      "1313/1313 [==============================] - 10s 8ms/step - loss: 0.0043 - accuracy: 0.9986 - val_loss: 0.0586 - val_accuracy: 0.9904\n",
      "Epoch 3/5\n",
      "1309/1313 [============================>.] - ETA: 0s - loss: 0.0045 - accuracy: 0.9985\n",
      "Epoch 3: val_accuracy did not improve from 0.99044\n",
      "1313/1313 [==============================] - 10s 8ms/step - loss: 0.0045 - accuracy: 0.9985 - val_loss: 0.0601 - val_accuracy: 0.9895\n",
      "Epoch 4/5\n",
      "1312/1313 [============================>.] - ETA: 0s - loss: 0.0046 - accuracy: 0.9984\n",
      "Epoch 4: val_accuracy did not improve from 0.99044\n",
      "1313/1313 [==============================] - 10s 8ms/step - loss: 0.0046 - accuracy: 0.9984 - val_loss: 0.0608 - val_accuracy: 0.9902\n",
      "Epoch 5/5\n",
      "1307/1313 [============================>.] - ETA: 0s - loss: 0.0058 - accuracy: 0.9981\n",
      "Epoch 5: val_accuracy did not improve from 0.99044\n",
      "1313/1313 [==============================] - 10s 7ms/step - loss: 0.0057 - accuracy: 0.9981 - val_loss: 0.0588 - val_accuracy: 0.9903\n",
      "Epoch 5: early stopping\n"
     ]
    }
   ],
   "source": [
    "his = model.fit(x_train, y_train, epochs=5, validation_split=0.3, callbacks= cb)"
   ]
  },
  {
   "cell_type": "code",
   "execution_count": 64,
   "metadata": {},
   "outputs": [],
   "source": [
    "model_S = keras.models.load_model(\"/Users/anniehuang/Desktop/DeepLearning-HandwrittenDigitRecognition/tensorflow/model.h5\")"
   ]
  },
  {
   "cell_type": "code",
   "execution_count": 65,
   "metadata": {},
   "outputs": [
    {
     "name": "stdout",
     "output_type": "stream",
     "text": [
      "313/313 [==============================] - 1s 2ms/step - loss: 0.0434 - accuracy: 0.9917\n",
      "the score accuracy is 0.9916999936103821\n"
     ]
    }
   ],
   "source": [
    "score = model_S.evaluate(x_test, y_test)\n",
    "\n",
    "print(f\"the score accuracy is {score[1]}\")"
   ]
  }
 ],
 "metadata": {
  "kernelspec": {
   "display_name": "base",
   "language": "python",
   "name": "python3"
  },
  "language_info": {
   "codemirror_mode": {
    "name": "ipython",
    "version": 3
   },
   "file_extension": ".py",
   "mimetype": "text/x-python",
   "name": "python",
   "nbconvert_exporter": "python",
   "pygments_lexer": "ipython3",
   "version": "3.11.3"
  },
  "orig_nbformat": 4
 },
 "nbformat": 4,
 "nbformat_minor": 2
}
